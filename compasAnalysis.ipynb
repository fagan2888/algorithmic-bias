{
 "cells": [
  {
   "cell_type": "markdown",
   "metadata": {},
   "source": [
    "# Compass Re-Analysis"
   ]
  },
  {
   "cell_type": "markdown",
   "metadata": {},
   "source": [
    "This notebook walks through use of my code to analyze the ProPublica analysis of COMPAS recidivism risk scores.<br>\n",
    "-Eric Saund<br>\n",
    " February, 2020"
   ]
  },
  {
   "cell_type": "code",
   "execution_count": 1,
   "metadata": {},
   "outputs": [
    {
     "name": "stdout",
     "output_type": "stream",
     "text": [
      "setting model type to: logr\n"
     ]
    },
    {
     "name": "stderr",
     "output_type": "stream",
     "text": [
      "c:\\python36x64\\lib\\site-packages\\sklearn\\utils\\deprecation.py:144: FutureWarning: The sklearn.metrics.scorer module is  deprecated in version 0.22 and will be removed in version 0.24. The corresponding classes / functions should instead be imported from sklearn.metrics. Anything that cannot be imported from sklearn.metrics is now part of the private API.\n",
      "  warnings.warn(message, FutureWarning)\n",
      "c:\\python36x64\\lib\\site-packages\\sklearn\\utils\\deprecation.py:144: FutureWarning: The sklearn.feature_selection.base module is  deprecated in version 0.22 and will be removed in version 0.24. The corresponding classes / functions should instead be imported from sklearn.feature_selection. Anything that cannot be imported from sklearn.feature_selection is now part of the private API.\n",
      "  warnings.warn(message, FutureWarning)\n"
     ]
    }
   ],
   "source": [
    "import compasAnalysis as ca"
   ]
  },
  {
   "cell_type": "markdown",
   "metadata": {},
   "source": [
    "The ProPublic analysis document explains that they reduce the raw data down to two data sets, one of size 7,214, and one of 6,172.  All of the models and plots of this analysis return equivalent results regardless of data set."
   ]
  },
  {
   "cell_type": "markdown",
   "metadata": {},
   "source": [
    "Get the full 7,214 data set from the file, 'compas-scores-two-years.csv'.<br>The apply filters to get down to the 6,172 data set."
   ]
  },
  {
   "cell_type": "code",
   "execution_count": 2,
   "metadata": {},
   "outputs": [
    {
     "name": "stdout",
     "output_type": "stream",
     "text": [
      "loading data from: data\\compas-scores-two-years.csv\n"
     ]
    }
   ],
   "source": [
    "ddict_list = ca.loadDataReturnDDictList()"
   ]
  },
  {
   "cell_type": "code",
   "execution_count": 3,
   "metadata": {},
   "outputs": [
    {
     "data": {
      "text/plain": [
       "7214"
      ]
     },
     "execution_count": 3,
     "metadata": {},
     "output_type": "execute_result"
    }
   ],
   "source": [
    "len(ddict_list)"
   ]
  },
  {
   "cell_type": "code",
   "execution_count": 4,
   "metadata": {},
   "outputs": [],
   "source": [
    "ddict_list2 = ca.applyFilters(ddict_list)"
   ]
  },
  {
   "cell_type": "code",
   "execution_count": 5,
   "metadata": {},
   "outputs": [
    {
     "data": {
      "text/plain": [
       "6172"
      ]
     },
     "execution_count": 5,
     "metadata": {},
     "output_type": "execute_result"
    }
   ],
   "source": [
    "len(ddict_list2)"
   ]
  },
  {
   "cell_type": "code",
   "execution_count": 6,
   "metadata": {},
   "outputs": [
    {
     "name": "stdout",
     "output_type": "stream",
     "text": [
      "setting gl_charge_index_desc_map\n"
     ]
    }
   ],
   "source": [
    "ca.computeChargeDescMap(ddict_list)"
   ]
  },
  {
   "cell_type": "code",
   "execution_count": 7,
   "metadata": {},
   "outputs": [],
   "source": [
    "ca.computeAgeFeatureMap()"
   ]
  },
  {
   "cell_type": "markdown",
   "metadata": {},
   "source": [
    "Plot COMPAS predictions for the 6,172 data set as a stacked bar graph. Overplot recid_ratio."
   ]
  },
  {
   "cell_type": "code",
   "execution_count": 8,
   "metadata": {},
   "outputs": [
    {
     "data": {
      "image/png": "[encoded data removed]",
      "text/plain": [
       "<Figure size 432x288 with 1 Axes>"
      ]
     },
     "metadata": {},
     "output_type": "display_data"
    }
   ],
   "source": [
    "ca.plotRecidByDecile(ddict_list2, 'blue', 'both', 1500)"
   ]
  },
  {
   "cell_type": "markdown",
   "metadata": {},
   "source": [
    "Print the confusion matrix for the 6,172 data set.\n",
    "(This printout is not included in the paper)"
   ]
  },
  {
   "cell_type": "code",
   "execution_count": 9,
   "metadata": {},
   "outputs": [
    {
     "name": "stdout",
     "output_type": "stream",
     "text": [
      "count: 6172\n",
      "[2345, 1018]\n",
      "[1076, 1733]\n",
      "FPR: 0.30270591733571217\n",
      "FNR: 0.38305446778212887\n",
      "TNR: 0.6972940826642878\n",
      "TPR = recall: 0.6169455322178711\n",
      "PPV = precision: 0.6299527444565612\n",
      "f1: 0.6233812949640288\n",
      "recidivism ratio: 0.4551198963058976\n"
     ]
    },
    {
     "data": {
      "text/plain": [
       "[[2345, 1018], [1076, 1733]]"
      ]
     },
     "execution_count": 9,
     "metadata": {},
     "output_type": "execute_result"
    }
   ],
   "source": [
    "ca.buildConfusionMatrix(ddict_list2)"
   ]
  },
  {
   "cell_type": "markdown",
   "metadata": {},
   "source": [
    "Print the confusion matrix for all 7,214 records. (This confusion matrix is included in the slide deck but not in the paper)"
   ]
  },
  {
   "cell_type": "code",
   "execution_count": 10,
   "metadata": {},
   "outputs": [
    {
     "name": "stdout",
     "output_type": "stream",
     "text": [
      "count: 7214\n",
      "[2681, 1282]\n",
      "[1216, 2035]\n",
      "FPR: 0.32349230381024474\n",
      "FNR: 0.3740387573054445\n",
      "TNR: 0.6765076961897553\n",
      "TPR = recall: 0.6259612426945556\n",
      "PPV = precision: 0.6135061802833887\n",
      "f1: 0.6196711327649209\n",
      "recidivism ratio: 0.45065151095092876\n"
     ]
    },
    {
     "data": {
      "text/plain": [
       "[[2681, 1282], [1216, 2035]]"
      ]
     },
     "execution_count": 10,
     "metadata": {},
     "output_type": "execute_result"
    }
   ],
   "source": [
    "ca.buildConfusionMatrix(ddict_list)"
   ]
  },
  {
   "cell_type": "markdown",
   "metadata": {},
   "source": [
    "Show the ROC Curve for the COMPAS predictions."
   ]
  },
  {
   "cell_type": "code",
   "execution_count": 11,
   "metadata": {},
   "outputs": [
    {
     "name": "stdout",
     "output_type": "stream",
     "text": [
      "AUC:0.7021662544019724\n"
     ]
    }
   ],
   "source": [
    "roc = ca.buildROCCurve(ddict_list)"
   ]
  },
  {
   "cell_type": "markdown",
   "metadata": {},
   "source": [
    "ProPublica reports COMPAS predictive accuracy of decile scores as .66 using a different method with a different data file called cox-parsed.csv.  I cannot explain why they arrive at a different result.  For some reason they chose not to compute AUC directly from the decile scores and recidivism values drawn from the files they use to report the confusion matrix."
   ]
  },
  {
   "cell_type": "code",
   "execution_count": 12,
   "metadata": {},
   "outputs": [
    {
     "name": "stdout",
     "output_type": "stream",
     "text": [
      "AUC: 0.7021662544019724\n"
     ]
    },
    {
     "data": {
      "image/png": "[encoded data removed]",
      "text/plain": [
       "<Figure size 360x360 with 1 Axes>"
      ]
     },
     "metadata": {},
     "output_type": "display_data"
    }
   ],
   "source": [
    "ca.plotROC(roc)"
   ]
  },
  {
   "cell_type": "markdown",
   "metadata": {},
   "source": [
    "Isolate African-American and Caucasian data records (both data sets)."
   ]
  },
  {
   "cell_type": "code",
   "execution_count": 13,
   "metadata": {},
   "outputs": [],
   "source": [
    "ddict_list_aa = ca.filterDdict(ddict_list, [('race', '==', 'African-American')])"
   ]
  },
  {
   "cell_type": "code",
   "execution_count": 14,
   "metadata": {},
   "outputs": [],
   "source": [
    "ddict_list_cau = ca.filterDdict(ddict_list, [('race', '==', 'Caucasian')])"
   ]
  },
  {
   "cell_type": "code",
   "execution_count": 15,
   "metadata": {},
   "outputs": [],
   "source": [
    "ddict_list2_aa = ca.filterDdict(ddict_list2, [('race', '==', 'African-American')])"
   ]
  },
  {
   "cell_type": "code",
   "execution_count": 16,
   "metadata": {},
   "outputs": [],
   "source": [
    "ddict_list2_cau = ca.filterDdict(ddict_list2, [('race', '==', 'Caucasian')])"
   ]
  },
  {
   "cell_type": "markdown",
   "metadata": {},
   "source": [
    "Plot COMPAS predictions for African-American and Caucasian data records as stacked bar graphs.<br>Overplot recid_ratios."
   ]
  },
  {
   "cell_type": "code",
   "execution_count": 17,
   "metadata": {},
   "outputs": [
    {
     "data": {
      "image/png": "[encoded data removed]",
      "text/plain": [
       "<Figure size 432x288 with 1 Axes>"
      ]
     },
     "metadata": {},
     "output_type": "display_data"
    }
   ],
   "source": [
    "ca.plotRecidByDecile(ddict_list_aa, 'saddlebrown', 'both', 700)"
   ]
  },
  {
   "cell_type": "code",
   "execution_count": 18,
   "metadata": {},
   "outputs": [
    {
     "data": {
      "image/png": "[encoded data removed]",
      "text/plain": [
       "<Figure size 432x288 with 1 Axes>"
      ]
     },
     "metadata": {},
     "output_type": "display_data"
    }
   ],
   "source": [
    "ca.plotRecidByDecile(ddict_list_cau, 'orange', 'both', 700)"
   ]
  },
  {
   "cell_type": "markdown",
   "metadata": {},
   "source": [
    "Print confusion matrices for African-American and Caucasian data records."
   ]
  },
  {
   "cell_type": "code",
   "execution_count": 19,
   "metadata": {},
   "outputs": [
    {
     "name": "stdout",
     "output_type": "stream",
     "text": [
      "count: 3696\n",
      "[990, 805]\n",
      "[532, 1369]\n",
      "FPR: 0.44846796657381616\n",
      "FNR: 0.27985270910047344\n",
      "TNR: 0.5515320334261838\n",
      "TPR = recall: 0.7201472908995266\n",
      "PPV = precision: 0.6297148114075437\n",
      "f1: 0.6719018404907975\n",
      "recidivism ratio: 0.5143398268398268\n"
     ]
    },
    {
     "data": {
      "text/plain": [
       "[[990, 805], [532, 1369]]"
      ]
     },
     "execution_count": 19,
     "metadata": {},
     "output_type": "execute_result"
    }
   ],
   "source": [
    "ca.buildConfusionMatrix(ddict_list_aa)"
   ]
  },
  {
   "cell_type": "code",
   "execution_count": 20,
   "metadata": {},
   "outputs": [
    {
     "name": "stdout",
     "output_type": "stream",
     "text": [
      "count: 2454\n",
      "[1139, 349]\n",
      "[461, 505]\n",
      "FPR: 0.23454301075268819\n",
      "FNR: 0.4772256728778468\n",
      "TNR: 0.7654569892473119\n",
      "TPR = recall: 0.5227743271221532\n",
      "PPV = precision: 0.5913348946135831\n",
      "f1: 0.5549450549450549\n",
      "recidivism ratio: 0.39364303178484106\n"
     ]
    },
    {
     "data": {
      "text/plain": [
       "[[1139, 349], [461, 505]]"
      ]
     },
     "execution_count": 20,
     "metadata": {},
     "output_type": "execute_result"
    }
   ],
   "source": [
    "ca.buildConfusionMatrix(ddict_list_cau)"
   ]
  },
  {
   "cell_type": "markdown",
   "metadata": {},
   "source": [
    "Use the arguments to plotRecidByDecile to get just the recid ratios.<br>Use your favorite image editor to overlay the plots. I used ScanScribe, of course."
   ]
  },
  {
   "cell_type": "code",
   "execution_count": 21,
   "metadata": {},
   "outputs": [
    {
     "data": {
      "image/png": "[encoded data removed]",
      "text/plain": [
       "<Figure size 432x288 with 1 Axes>"
      ]
     },
     "metadata": {},
     "output_type": "display_data"
    }
   ],
   "source": [
    "ca.plotRecidByDecile(ddict_list_aa, 'saddlebrown', 'ratio', 700)"
   ]
  },
  {
   "cell_type": "code",
   "execution_count": 22,
   "metadata": {},
   "outputs": [
    {
     "data": {
      "image/png": "[encoded data removed]",
      "text/plain": [
       "<Figure size 432x288 with 1 Axes>"
      ]
     },
     "metadata": {},
     "output_type": "display_data"
    }
   ],
   "source": [
    "ca.plotRecidByDecile(ddict_list_cau, 'orange', 'ratio', 700)"
   ]
  },
  {
   "cell_type": "markdown",
   "metadata": {},
   "source": [
    "# Insight From Imaginary Data"
   ]
  },
  {
   "cell_type": "markdown",
   "metadata": {},
   "source": [
    "We gain insight into how distributions of scores leads to the properties of confusion matrices by examining synthetic data.<br>\n",
    "The race argument is never actually used but is included as a marker for the characteristics of the population being synthesized.  These are typically designed to be idealized versions of the crufty real data.<br>Generate and plot synthetic data uniformly distributed over decile, with target recid.\n",
    "This material is not used in the current version of the paper.  \n",
    "This was part of the development work that led to the Confusion Matrix Dashboard that does all of this interactively in javascript."
   ]
  },
  {
   "cell_type": "code",
   "execution_count": 23,
   "metadata": {},
   "outputs": [],
   "source": [
    "ddict_uniform_aa = ca.generateUniformDecileSamples(1000, 'African-American', .51)"
   ]
  },
  {
   "cell_type": "code",
   "execution_count": 24,
   "metadata": {},
   "outputs": [],
   "source": [
    "ddict_uniform_cau = ca.generateUniformDecileSamples(1000, 'Caucasian', .39)"
   ]
  },
  {
   "cell_type": "code",
   "execution_count": 25,
   "metadata": {},
   "outputs": [
    {
     "data": {
      "image/png": "[encoded data removed]",
      "text/plain": [
       "<Figure size 432x288 with 1 Axes>"
      ]
     },
     "metadata": {},
     "output_type": "display_data"
    }
   ],
   "source": [
    "ca.plotRecidByDecile(ddict_uniform_aa, 'saddlebrown', 'both', 200)"
   ]
  },
  {
   "cell_type": "code",
   "execution_count": 26,
   "metadata": {},
   "outputs": [
    {
     "data": {
      "image/png": "[encoded data removed]",
      "text/plain": [
       "<Figure size 432x288 with 1 Axes>"
      ]
     },
     "metadata": {},
     "output_type": "display_data"
    }
   ],
   "source": [
    "ca.plotRecidByDecile(ddict_uniform_cau, 'orange', 'both', 200)"
   ]
  },
  {
   "cell_type": "markdown",
   "metadata": {},
   "source": [
    "Generate and plot synthetic data with consistent prediction quality and the same overall recid rate for imaginary 'Synthesized African-American' and 'Synthesized Caucasian' populations of size 1000 each.  The recid rate per decile is the same, reflecting consistent prediction quality of the imaginary prediction algorithm for these data sets. The AA population is uniformly distributed across deciles."
   ]
  },
  {
   "cell_type": "code",
   "execution_count": 27,
   "metadata": {},
   "outputs": [],
   "source": [
    "ddict_unilinear_aa = ca.generateUniformDecileSamplesLinearPrediction(1000, 'African-American', .5, .2)"
   ]
  },
  {
   "cell_type": "code",
   "execution_count": 28,
   "metadata": {},
   "outputs": [
    {
     "data": {
      "image/png": "[encoded data removed]",
      "text/plain": [
       "<Figure size 432x288 with 1 Axes>"
      ]
     },
     "metadata": {},
     "output_type": "display_data"
    }
   ],
   "source": [
    "ca.plotRecidByDecile(ddict_unilinear_aa, 'saddlebrown', 'both', 200)"
   ]
  },
  {
   "cell_type": "code",
   "execution_count": 29,
   "metadata": {},
   "outputs": [
    {
     "name": "stdout",
     "output_type": "stream",
     "text": [
      "count: 1000\n",
      "[280, 220]\n",
      "[120, 380]\n",
      "FPR: 0.44\n",
      "FNR: 0.24\n",
      "TNR: 0.56\n",
      "TPR = recall: 0.76\n",
      "PPV = precision: 0.6333333333333333\n",
      "f1: 0.6909090909090909\n",
      "recidivism ratio: 0.5\n"
     ]
    },
    {
     "data": {
      "text/plain": [
       "[[280, 220], [120, 380]]"
      ]
     },
     "execution_count": 29,
     "metadata": {},
     "output_type": "execute_result"
    }
   ],
   "source": [
    "ca.buildConfusionMatrix(ddict_unilinear_aa)"
   ]
  },
  {
   "cell_type": "markdown",
   "metadata": {},
   "source": [
    "The Cau population declines per decile.  In order for recid ratio to be consistent, the recidivising counts arc downward."
   ]
  },
  {
   "cell_type": "code",
   "execution_count": 30,
   "metadata": {},
   "outputs": [
    {
     "name": "stdout",
     "output_type": "stream",
     "text": [
      "frac_recid_at_decile 0 : 0.2\n",
      "decile_i: 0 n_at_decile: 190 n_sum: 190 n_recid_at_decile: 38 n_norecid_at_decile: 152 sum: 38\n",
      "frac_recid_at_decile 1 : 0.26666666666666666\n",
      "decile_i: 1 n_at_decile: 170 n_sum: 360 n_recid_at_decile: 45 n_norecid_at_decile: 125 sum: 83\n",
      "frac_recid_at_decile 2 : 0.33333333333333337\n",
      "decile_i: 2 n_at_decile: 150 n_sum: 510 n_recid_at_decile: 50 n_norecid_at_decile: 100 sum: 133\n",
      "frac_recid_at_decile 3 : 0.4\n",
      "decile_i: 3 n_at_decile: 130 n_sum: 640 n_recid_at_decile: 52 n_norecid_at_decile: 78 sum: 185\n",
      "frac_recid_at_decile 4 : 0.4666666666666667\n",
      "decile_i: 4 n_at_decile: 110 n_sum: 750 n_recid_at_decile: 51 n_norecid_at_decile: 59 sum: 236\n",
      "frac_recid_at_decile 5 : 0.5333333333333333\n",
      "decile_i: 5 n_at_decile: 90 n_sum: 840 n_recid_at_decile: 48 n_norecid_at_decile: 42 sum: 284\n",
      "frac_recid_at_decile 6 : 0.6\n",
      "decile_i: 6 n_at_decile: 70 n_sum: 910 n_recid_at_decile: 42 n_norecid_at_decile: 28 sum: 326\n",
      "frac_recid_at_decile 7 : 0.6666666666666667\n",
      "decile_i: 7 n_at_decile: 50 n_sum: 960 n_recid_at_decile: 33 n_norecid_at_decile: 17 sum: 359\n",
      "frac_recid_at_decile 8 : 0.7333333333333334\n",
      "decile_i: 8 n_at_decile: 30 n_sum: 990 n_recid_at_decile: 22 n_norecid_at_decile: 8 sum: 381\n",
      "frac_recid_at_decile 9 : 0.8\n",
      "decile_i: 9 n_at_decile: 10 n_sum: 1000 n_recid_at_decile: 8 n_norecid_at_decile: 2 sum: 389\n",
      "frac_recid_at_decile 0 : 2.2\n",
      "decile_i: 0 n_at_decile: 190 n_sum: 190 n_recid_at_decile: 418 n_norecid_at_decile: -228 sum: 418\n",
      "frac_recid_at_decile 1 : 2.2666666666666666\n",
      "decile_i: 1 n_at_decile: 170 n_sum: 360 n_recid_at_decile: 385 n_norecid_at_decile: -215 sum: 803\n",
      "frac_recid_at_decile 2 : 2.3333333333333335\n",
      "decile_i: 2 n_at_decile: 150 n_sum: 510 n_recid_at_decile: 350 n_norecid_at_decile: -200 sum: 1153\n",
      "frac_recid_at_decile 3 : 2.4\n",
      "decile_i: 3 n_at_decile: 130 n_sum: 640 n_recid_at_decile: 312 n_norecid_at_decile: -182 sum: 1465\n",
      "frac_recid_at_decile 4 : 2.466666666666667\n",
      "decile_i: 4 n_at_decile: 110 n_sum: 750 n_recid_at_decile: 271 n_norecid_at_decile: -161 sum: 1736\n",
      "frac_recid_at_decile 5 : 2.533333333333333\n",
      "decile_i: 5 n_at_decile: 90 n_sum: 840 n_recid_at_decile: 228 n_norecid_at_decile: -138 sum: 1964\n",
      "frac_recid_at_decile 6 : 2.6\n",
      "decile_i: 6 n_at_decile: 70 n_sum: 910 n_recid_at_decile: 182 n_norecid_at_decile: -112 sum: 2146\n",
      "frac_recid_at_decile 7 : 2.666666666666667\n",
      "decile_i: 7 n_at_decile: 50 n_sum: 960 n_recid_at_decile: 133 n_norecid_at_decile: -83 sum: 2279\n",
      "frac_recid_at_decile 8 : 2.7333333333333334\n",
      "decile_i: 8 n_at_decile: 30 n_sum: 990 n_recid_at_decile: 82 n_norecid_at_decile: -52 sum: 2361\n",
      "frac_recid_at_decile 9 : 2.8\n",
      "decile_i: 9 n_at_decile: 10 n_sum: 1000 n_recid_at_decile: 28 n_norecid_at_decile: -18 sum: 2389\n",
      "frac_recid_at_decile 0 : 0.311\n",
      "decile_i: 0 n_at_decile: 190 n_sum: 190 n_recid_at_decile: 59 n_norecid_at_decile: 131 sum: 59\n",
      "frac_recid_at_decile 1 : 0.37766666666666665\n",
      "decile_i: 1 n_at_decile: 170 n_sum: 360 n_recid_at_decile: 64 n_norecid_at_decile: 106 sum: 123\n",
      "frac_recid_at_decile 2 : 0.44433333333333336\n",
      "decile_i: 2 n_at_decile: 150 n_sum: 510 n_recid_at_decile: 67 n_norecid_at_decile: 83 sum: 190\n",
      "frac_recid_at_decile 3 : 0.511\n",
      "decile_i: 3 n_at_decile: 130 n_sum: 640 n_recid_at_decile: 66 n_norecid_at_decile: 64 sum: 256\n",
      "frac_recid_at_decile 4 : 0.5776666666666667\n",
      "decile_i: 4 n_at_decile: 110 n_sum: 750 n_recid_at_decile: 64 n_norecid_at_decile: 46 sum: 320\n",
      "frac_recid_at_decile 5 : 0.6443333333333333\n",
      "decile_i: 5 n_at_decile: 90 n_sum: 840 n_recid_at_decile: 58 n_norecid_at_decile: 32 sum: 378\n",
      "frac_recid_at_decile 6 : 0.711\n",
      "decile_i: 6 n_at_decile: 70 n_sum: 910 n_recid_at_decile: 50 n_norecid_at_decile: 20 sum: 428\n",
      "frac_recid_at_decile 7 : 0.7776666666666667\n",
      "decile_i: 7 n_at_decile: 50 n_sum: 960 n_recid_at_decile: 39 n_norecid_at_decile: 11 sum: 467\n",
      "frac_recid_at_decile 8 : 0.8443333333333334\n",
      "decile_i: 8 n_at_decile: 30 n_sum: 990 n_recid_at_decile: 25 n_norecid_at_decile: 5 sum: 492\n",
      "frac_recid_at_decile 9 : 0.911\n",
      "decile_i: 9 n_at_decile: 10 n_sum: 1000 n_recid_at_decile: 9 n_norecid_at_decile: 1 sum: 501\n",
      "frac_recid_at_decile 0 : 0.3100089285714286\n",
      "decile_i: 0 n_at_decile: 190 n_sum: 190 n_recid_at_decile: 59 n_norecid_at_decile: 131 sum: 59\n",
      "frac_recid_at_decile 1 : 0.37667559523809524\n",
      "decile_i: 1 n_at_decile: 170 n_sum: 360 n_recid_at_decile: 64 n_norecid_at_decile: 106 sum: 123\n",
      "frac_recid_at_decile 2 : 0.44334226190476195\n",
      "decile_i: 2 n_at_decile: 150 n_sum: 510 n_recid_at_decile: 67 n_norecid_at_decile: 83 sum: 190\n",
      "frac_recid_at_decile 3 : 0.5100089285714287\n",
      "decile_i: 3 n_at_decile: 130 n_sum: 640 n_recid_at_decile: 66 n_norecid_at_decile: 64 sum: 256\n",
      "frac_recid_at_decile 4 : 0.5766755952380953\n",
      "decile_i: 4 n_at_decile: 110 n_sum: 750 n_recid_at_decile: 63 n_norecid_at_decile: 47 sum: 319\n",
      "frac_recid_at_decile 5 : 0.643342261904762\n",
      "decile_i: 5 n_at_decile: 90 n_sum: 840 n_recid_at_decile: 58 n_norecid_at_decile: 32 sum: 377\n",
      "frac_recid_at_decile 6 : 0.7100089285714286\n",
      "decile_i: 6 n_at_decile: 70 n_sum: 910 n_recid_at_decile: 50 n_norecid_at_decile: 20 sum: 427\n",
      "frac_recid_at_decile 7 : 0.7766755952380953\n",
      "decile_i: 7 n_at_decile: 50 n_sum: 960 n_recid_at_decile: 39 n_norecid_at_decile: 11 sum: 466\n",
      "frac_recid_at_decile 8 : 0.8433422619047619\n",
      "decile_i: 8 n_at_decile: 30 n_sum: 990 n_recid_at_decile: 25 n_norecid_at_decile: 5 sum: 491\n",
      "frac_recid_at_decile 9 : 0.9100089285714286\n",
      "decile_i: 9 n_at_decile: 10 n_sum: 1000 n_recid_at_decile: 9 n_norecid_at_decile: 1 sum: 500\n",
      "\n",
      "done at 3 best_offset: 0.11000892857142858 best_frac_oh: 0.5\n"
     ]
    },
    {
     "data": {
      "image/png": "[encoded data removed]",
      "text/plain": [
       "<Figure size 432x288 with 1 Axes>"
      ]
     },
     "metadata": {},
     "output_type": "display_data"
    }
   ],
   "source": [
    "ca.iterateGenerateDecliningDecileSamplesLinearPredictionNewton(1000, 'Caucasian', .5, .2, 1.9)"
   ]
  },
  {
   "cell_type": "markdown",
   "metadata": {},
   "source": [
    "# Independent Predictive Algorithms"
   ]
  },
  {
   "cell_type": "markdown",
   "metadata": {},
   "source": [
    "Train and test a Logistic Regression model for the 6,172 data set.  Similar results obtain for the 7,214 data set.<br>\n",
    "Results are put into global variables in the ca module."
   ]
  },
  {
   "cell_type": "code",
   "execution_count": 31,
   "metadata": {},
   "outputs": [
    {
     "name": "stdout",
     "output_type": "stream",
     "text": [
      "feature_list: ['age', 'juv_fel_count', 'juv_misd_count', 'juv_other_count', 'priors_count', 'c_charge_degree', 'c_charge_desc']\n",
      "AUC: 0.7464678282827086\n",
      "choosing score_threshold: 0.493 for optimal mcc score: 0.3783261196635663\n",
      "count: 6172\n",
      "[2541, 822]\n",
      "[1071, 1738]\n",
      "FPR: 0.24442462087421946\n",
      "FNR: 0.38127447490210037\n",
      "TNR: 0.7555753791257805\n",
      "TPR = recall: 0.6187255250978996\n",
      "PPV = precision: 0.67890625\n",
      "f1: 0.6474203762339356\n",
      "mcc: 0.3783261196635663\n",
      "recidivism ratio: 0.4551198963058976\n"
     ]
    }
   ],
   "source": [
    "ca.runTrainTestFull(ddict_list2)"
   ]
  },
  {
   "cell_type": "markdown",
   "metadata": {},
   "source": [
    "Plot prediction score distribution as stacked bars as with the COMPAS model.<br>This is not as informative as the line plot below."
   ]
  },
  {
   "cell_type": "code",
   "execution_count": 32,
   "metadata": {},
   "outputs": [
    {
     "data": {
      "image/png": "[encoded data removed]",
      "text/plain": [
       "<Figure size 432x288 with 1 Axes>"
      ]
     },
     "metadata": {},
     "output_type": "display_data"
    }
   ],
   "source": [
    "ca.plotPredictionScoresAsStackedDecileBars(ca.gl_last_y, ca.gl_last_preds, None, 2000)"
   ]
  },
  {
   "cell_type": "markdown",
   "metadata": {},
   "source": [
    "Plot prediction score distributions for true recid (red) and true norecid(green) as lines."
   ]
  },
  {
   "cell_type": "code",
   "execution_count": 33,
   "metadata": {},
   "outputs": [
    {
     "name": "stdout",
     "output_type": "stream",
     "text": [
      "[0, 0, 0, 0.0, 153.1914893617021, 244.89795918367346, 295.10869565217394, 335.3846153846154, 415.0845253576073, 547.3972602739726, 645.4680534918276, 785.4077253218884, 842.9752066115702, 916.3636363636364, 987.4015748031496, 1107.6923076923078, 1200.0, 0, 0, 0]\n"
     ]
    },
    {
     "data": {
      "image/png": "[encoded data removed]",
      "text/plain": [
       "<Figure size 432x288 with 1 Axes>"
      ]
     },
     "metadata": {},
     "output_type": "display_data"
    }
   ],
   "source": [
    "ca.plotPredictionScores(ca.gl_last_y, ca.gl_last_preds, None, 1200)"
   ]
  },
  {
   "cell_type": "markdown",
   "metadata": {},
   "source": [
    "Plot the ROC Curve (Receiver Operating Characteristic) to see the True Positive Rate/False Positive Rate tradeoff."
   ]
  },
  {
   "cell_type": "code",
   "execution_count": 34,
   "metadata": {},
   "outputs": [
    {
     "name": "stdout",
     "output_type": "stream",
     "text": [
      "AUC: 0.7464678282827086\n"
     ]
    },
    {
     "data": {
      "image/png": "[encoded data removed]",
      "text/plain": [
       "<Figure size 360x360 with 1 Axes>"
      ]
     },
     "metadata": {},
     "output_type": "display_data"
    }
   ],
   "source": [
    "ca.plotROC(ca.gl_last_roc)"
   ]
  },
  {
   "cell_type": "markdown",
   "metadata": {},
   "source": [
    "Plot and print confusion matrices for the logistic regression model, broken out by African-American and Caucasian subpopulations.<br>Choose the threshold of .493 because that's what was chosen by mcc for the model trained on all data."
   ]
  },
  {
   "cell_type": "code",
   "execution_count": 35,
   "metadata": {},
   "outputs": [
    {
     "name": "stdout",
     "output_type": "stream",
     "text": [
      "feature_list: ['age', 'juv_fel_count', 'juv_misd_count', 'juv_other_count', 'priors_count', 'c_charge_degree', 'c_charge_desc']\n",
      "\n",
      "Caucasian\n",
      "AUC: 0.7263229570875872\n",
      "count: 2103\n",
      "[1025, 256]\n",
      "[407, 415]\n",
      "FPR: 0.19984387197501952\n",
      "FNR: 0.4951338199513382\n",
      "TNR: 0.8001561280249805\n",
      "TPR = recall: 0.5048661800486618\n",
      "PPV = precision: 0.6184798807749627\n",
      "f1: 0.5559276624246483\n",
      "mcc: 0.31930763827974906\n",
      "recidivism ratio: 0.3908701854493581\n",
      "\n",
      "African-American\n",
      "AUC: 0.743773347214081\n",
      "count: 3175\n",
      "[1041, 473]\n",
      "[501, 1160]\n",
      "FPR: 0.31241743725231175\n",
      "FNR: 0.3016255267910897\n",
      "TNR: 0.6875825627476883\n",
      "TPR = recall: 0.6983744732089103\n",
      "PPV = precision: 0.7103490508266993\n",
      "f1: 0.7043108682452944\n",
      "mcc: 0.3857015969950244\n",
      "recidivism ratio: 0.5231496062992126\n"
     ]
    }
   ],
   "source": [
    "ca.runRaceComparisonForModel(ddict_list2, ca.gl_last_model, .493)"
   ]
  },
  {
   "cell_type": "markdown",
   "metadata": {},
   "source": [
    "Plot the distributions for African-American and Caucasian subpopulations."
   ]
  },
  {
   "cell_type": "code",
   "execution_count": 36,
   "metadata": {},
   "outputs": [
    {
     "name": "stdout",
     "output_type": "stream",
     "text": [
      "[0, 0, 0, 0.0, 41.1764705882353, 171.22302158273382, 193.97590361445782, 207.2, 251.14503816793894, 300.78125, 396.7914438502674, 487.6666666666667, 498.75, 546.4387464387464, 585.9550561797753, 668.1818181818182, 700.0, 0, 0, 0]\n"
     ]
    },
    {
     "data": {
      "image/png": "[encoded data removed]",
      "text/plain": [
       "<Figure size 432x288 with 1 Axes>"
      ]
     },
     "metadata": {},
     "output_type": "display_data"
    }
   ],
   "source": [
    "ca.plotPredictionScores(ca.gl_last_y_aa, ca.gl_last_preds_aa, None, ymax = 700)"
   ]
  },
  {
   "cell_type": "code",
   "execution_count": 37,
   "metadata": {},
   "outputs": [
    {
     "name": "stdout",
     "output_type": "stream",
     "text": [
      "[0, 0, 0, 0.0, 98.34710743801654, 129.62962962962962, 182.9787234042553, 189.1891891891892, 235.8974358974359, 350.0, 341.6267942583732, 379.16666666666663, 485.9504132231405, 520.183486238532, 531.4814814814815, 606.6666666666667, 700.0, 0, 0, 0]\n"
     ]
    },
    {
     "data": {
      "image/png": "[encoded data removed]",
      "text/plain": [
       "<Figure size 432x288 with 1 Axes>"
      ]
     },
     "metadata": {},
     "output_type": "display_data"
    }
   ],
   "source": [
    "ca.plotPredictionScores(ca.gl_last_y_cau, ca.gl_last_preds_cau, None, ymax = 700)"
   ]
  },
  {
   "cell_type": "markdown",
   "metadata": {},
   "source": [
    "Overplot the recid ratios with the distributions.  The ratio lines are not perfectly straight, but are pretty much in agreement between the AA and Cau subpopulations."
   ]
  },
  {
   "cell_type": "code",
   "execution_count": 38,
   "metadata": {},
   "outputs": [
    {
     "name": "stdout",
     "output_type": "stream",
     "text": [
      "[0, 0, 0, 0.0, 41.1764705882353, 171.22302158273382, 193.97590361445782, 207.2, 251.14503816793894, 300.78125, 396.7914438502674, 487.6666666666667, 498.75, 546.4387464387464, 585.9550561797753, 668.1818181818182, 700.0, 0, 0, 0]\n"
     ]
    },
    {
     "data": {
      "image/png": "[encoded data removed]",
      "text/plain": [
       "<Figure size 432x288 with 1 Axes>"
      ]
     },
     "metadata": {},
     "output_type": "display_data"
    }
   ],
   "source": [
    "ca.plotPredictionScores(ca.gl_last_y_aa, ca.gl_last_preds_aa, ratio_color='saddlebrown', ymax = 700)"
   ]
  },
  {
   "cell_type": "code",
   "execution_count": 39,
   "metadata": {},
   "outputs": [
    {
     "name": "stdout",
     "output_type": "stream",
     "text": [
      "[0, 0, 0, 0.0, 98.34710743801654, 129.62962962962962, 182.9787234042553, 189.1891891891892, 235.8974358974359, 350.0, 341.6267942583732, 379.16666666666663, 485.9504132231405, 520.183486238532, 531.4814814814815, 606.6666666666667, 700.0, 0, 0, 0]\n"
     ]
    },
    {
     "data": {
      "image/png": "[encoded data removed]",
      "text/plain": [
       "<Figure size 432x288 with 1 Axes>"
      ]
     },
     "metadata": {},
     "output_type": "display_data"
    }
   ],
   "source": [
    "ca.plotPredictionScores(ca.gl_last_y_cau, ca.gl_last_preds_cau, ratio_color='orange', ymax = 700)"
   ]
  },
  {
   "cell_type": "markdown",
   "metadata": {},
   "source": [
    "# More experiments"
   ]
  },
  {
   "cell_type": "markdown",
   "metadata": {},
   "source": [
    "The code affords much more probing and experimentation.<br>Train a logistic regression model using a feature set that includes race as a feature."
   ]
  },
  {
   "cell_type": "code",
   "execution_count": 40,
   "metadata": {},
   "outputs": [
    {
     "name": "stdout",
     "output_type": "stream",
     "text": [
      "feature_list: ['race', 'age', 'juv_fel_count', 'juv_misd_count', 'juv_other_count', 'priors_count', 'c_charge_degree', 'c_charge_desc']\n",
      "AUC: 0.7470159581151702\n",
      "choosing score_threshold: 0.523 for optimal mcc score: 0.3769308974434568\n",
      "count: 6172\n",
      "[2661, 702]\n",
      "[1193, 1616]\n",
      "FPR: 0.2087421944692239\n",
      "FNR: 0.4247063011747953\n",
      "TNR: 0.7912578055307761\n",
      "TPR = recall: 0.5752936988252046\n",
      "PPV = precision: 0.6971527178602244\n",
      "f1: 0.6303881412131851\n",
      "mcc: 0.3769308974434568\n",
      "recidivism ratio: 0.4551198963058976\n"
     ]
    }
   ],
   "source": [
    "ca.runTrainTestFull(ddict_list2, ca.gl_features_race)"
   ]
  },
  {
   "cell_type": "markdown",
   "metadata": {},
   "source": [
    "Compare the discrepancy of False Positive and False Negative errors of this model between African-American and Caucasian populations with the model (above) that excludes race as a feature.<br>The optimal MCC threshold is .523"
   ]
  },
  {
   "cell_type": "code",
   "execution_count": 41,
   "metadata": {},
   "outputs": [
    {
     "name": "stdout",
     "output_type": "stream",
     "text": [
      "feature_list: ['race', 'age', 'juv_fel_count', 'juv_misd_count', 'juv_other_count', 'priors_count', 'c_charge_degree', 'c_charge_desc']\n",
      "\n",
      "Caucasian\n",
      "AUC: 0.7263960827440561\n",
      "count: 2103\n",
      "[1071, 210]\n",
      "[452, 370]\n",
      "FPR: 0.16393442622950818\n",
      "FNR: 0.5498783454987834\n",
      "TNR: 0.8360655737704918\n",
      "TPR = recall: 0.45012165450121655\n",
      "PPV = precision: 0.6379310344827587\n",
      "f1: 0.5278174037089872\n",
      "mcc: 0.3124616873558286\n",
      "recidivism ratio: 0.3908701854493581\n",
      "\n",
      "African-American\n",
      "AUC: 0.7436425193080526\n",
      "count: 3175\n",
      "[1083, 431]\n",
      "[541, 1120]\n",
      "FPR: 0.2846763540290621\n",
      "FNR: 0.3257074051776038\n",
      "TNR: 0.7153236459709379\n",
      "TPR = recall: 0.6742925948223961\n",
      "PPV = precision: 0.7221147646679562\n",
      "f1: 0.6973848069738481\n",
      "mcc: 0.38930133606195233\n",
      "recidivism ratio: 0.5231496062992126\n"
     ]
    }
   ],
   "source": [
    "ca.runRaceComparisonForModel(ddict_list2, ca.gl_last_model, .523, ca.gl_features_race)"
   ]
  },
  {
   "cell_type": "markdown",
   "metadata": {},
   "source": [
    "Test the race-sensitive model with race='African-American' and race='Caucasian' feature values reversed for each other."
   ]
  },
  {
   "cell_type": "code",
   "execution_count": 42,
   "metadata": {},
   "outputs": [
    {
     "name": "stdout",
     "output_type": "stream",
     "text": [
      "feature_list: ['race', 'age', 'juv_fel_count', 'juv_misd_count', 'juv_other_count', 'priors_count', 'c_charge_degree', 'c_charge_desc']\n",
      "\n",
      "Caucasian\n",
      "AUC: 0.7263951330602059\n",
      "count: 2103\n",
      "[1044, 237]\n",
      "[431, 391]\n",
      "FPR: 0.18501170960187355\n",
      "FNR: 0.524330900243309\n",
      "TNR: 0.8149882903981265\n",
      "TPR = recall: 0.47566909975669097\n",
      "PPV = precision: 0.6226114649681529\n",
      "f1: 0.5393103448275862\n",
      "mcc: 0.3098960290251951\n",
      "recidivism ratio: 0.3908701854493581\n",
      "\n",
      "African-American\n",
      "AUC: 0.7436425193080526\n",
      "count: 3175\n",
      "[1127, 387]\n",
      "[586, 1075]\n",
      "FPR: 0.25561426684280053\n",
      "FNR: 0.3527995183624323\n",
      "TNR: 0.7443857331571995\n",
      "TPR = recall: 0.6472004816375677\n",
      "PPV = precision: 0.7352941176470589\n",
      "f1: 0.6884406019852705\n",
      "mcc: 0.3923943818820216\n",
      "recidivism ratio: 0.5231496062992126\n"
     ]
    }
   ],
   "source": [
    "ca.runRaceComparisonForModel_InvertRace(ddict_list2, ca.gl_last_model, .523, ca.gl_features_race)"
   ]
  },
  {
   "cell_type": "markdown",
   "metadata": {},
   "source": [
    "The discrepacy is reduced somewhat, which reflects the fact that race is of some predictive value in predicting recidivism.  But the direction of significant discrepancy in False Positive and False Negative errors between the two populations remains the same.  Even if race is included as a feature, the prediction distributions and confusion matrices are dominated by the race-neutral features, age, priors counts, and charge description."
   ]
  },
  {
   "cell_type": "markdown",
   "metadata": {},
   "source": [
    "Use a Gradient Boosting Regressor model instead of a logistic regression model."
   ]
  },
  {
   "cell_type": "code",
   "execution_count": 43,
   "metadata": {},
   "outputs": [
    {
     "name": "stdout",
     "output_type": "stream",
     "text": [
      "setting model type to: gbr\n"
     ]
    }
   ],
   "source": [
    "ca.setModelType('gbr')"
   ]
  },
  {
   "cell_type": "markdown",
   "metadata": {},
   "source": [
    "Because a GBR has many more parameters than a logistic regression or linear model, it is subject to overfitting the training data. It is most appropriate to use K-Fold cross validation, meaning we divide the data set into random slices.  Train on 4/5 of the data, and test on the other 1/5 slices."
   ]
  },
  {
   "cell_type": "code",
   "execution_count": 44,
   "metadata": {},
   "outputs": [
    {
     "name": "stdout",
     "output_type": "stream",
     "text": [
      "feature_list: ['age', 'juv_fel_count', 'juv_misd_count', 'juv_other_count', 'priors_count', 'c_charge_degree', 'c_charge_desc']\n",
      "fold: 0\n",
      "fold: 1\n",
      "fold: 2\n",
      "fold: 3\n",
      "fold: 4\n",
      "AUC: 0.7353965160410503\n",
      "choosing score_threshold: 0.42000000000000004 for optimal mcc score: 0.36199678666785023\n",
      "count: 6172\n",
      "[2184, 1179]\n",
      "[806, 2003]\n",
      "FPR: 0.35057983942908116\n",
      "FNR: 0.28693485226059096\n",
      "TNR: 0.6494201605709188\n",
      "TPR = recall: 0.713065147739409\n",
      "PPV = precision: 0.6294783155248271\n",
      "f1: 0.6686696711734268\n",
      "mcc: 0.36119691352758715\n",
      "recidivism ratio: 0.4551198963058976\n"
     ]
    }
   ],
   "source": [
    "ca.runTrainTestKFold(ddict_list2)"
   ]
  },
  {
   "cell_type": "markdown",
   "metadata": {},
   "source": [
    "AUC is .73, compared to .75 when training a GBR model on the full data set:"
   ]
  },
  {
   "cell_type": "code",
   "execution_count": 45,
   "metadata": {},
   "outputs": [
    {
     "name": "stdout",
     "output_type": "stream",
     "text": [
      "feature_list: ['age', 'juv_fel_count', 'juv_misd_count', 'juv_other_count', 'priors_count', 'c_charge_degree', 'c_charge_desc']\n",
      "AUC: 0.7508867413236824\n",
      "choosing score_threshold: 0.41300000000000003 for optimal mcc score: 0.3880973124705922\n",
      "count: 6172\n",
      "[2208, 1155]\n",
      "[749, 2060]\n",
      "FPR: 0.3434433541480821\n",
      "FNR: 0.2666429334282663\n",
      "TNR: 0.656556645851918\n",
      "TPR = recall: 0.7333570665717337\n",
      "PPV = precision: 0.640746500777605\n",
      "f1: 0.6839309428950863\n",
      "mcc: 0.38867952294900193\n",
      "recidivism ratio: 0.4551198963058976\n"
     ]
    }
   ],
   "source": [
    "ca.runTrainTestFull(ddict_list2)"
   ]
  },
  {
   "cell_type": "markdown",
   "metadata": {},
   "source": [
    "These are pretty close, which means the overfitting is not too too bad with the default parameters I chose by experimentation."
   ]
  },
  {
   "cell_type": "markdown",
   "metadata": {},
   "source": [
    "# Produce .json files for the Confusion Matrix Dashboard"
   ]
  },
  {
   "cell_type": "markdown",
   "metadata": {},
   "source": [
    "This is an example of training a GBR model on Broward Recidivism data and gathering predictions, then writing the predictions and outcomes to a .json file for viewing in the Confusion Matrix Dashboard. "
   ]
  },
  {
   "cell_type": "code",
   "execution_count": 46,
   "metadata": {},
   "outputs": [
    {
     "name": "stdout",
     "output_type": "stream",
     "text": [
      "setting model type to: gbr\n"
     ]
    }
   ],
   "source": [
    "ca.setModelType('gbr')"
   ]
  },
  {
   "cell_type": "code",
   "execution_count": 47,
   "metadata": {},
   "outputs": [],
   "source": [
    "ca.gl_score_plot_range_min = 0.0"
   ]
  },
  {
   "cell_type": "code",
   "execution_count": 48,
   "metadata": {},
   "outputs": [],
   "source": [
    "ca.gl_score_plot_range_max = 1.0"
   ]
  },
  {
   "cell_type": "code",
   "execution_count": 49,
   "metadata": {},
   "outputs": [],
   "source": [
    "gl_recidivism_tag = 'two_year_recid'"
   ]
  },
  {
   "cell_type": "markdown",
   "metadata": {},
   "source": [
    "For a GBR model, better use KFold cross validation.  Thsi leaves results in global variables, ca.gl_last_y, etc."
   ]
  },
  {
   "cell_type": "code",
   "execution_count": 50,
   "metadata": {},
   "outputs": [
    {
     "name": "stdout",
     "output_type": "stream",
     "text": [
      "feature_list: ['age', 'juv_fel_count', 'juv_misd_count', 'juv_other_count', 'priors_count', 'c_charge_degree', 'c_charge_desc']\n",
      "fold: 0\n",
      "fold: 1\n",
      "fold: 2\n",
      "fold: 3\n",
      "fold: 4\n",
      "AUC: 0.7340892824950792\n",
      "choosing score_threshold: 0.44300000000000006 for optimal mcc score: 0.3668585919872056\n",
      "count: 6172\n",
      "[2314, 1049]\n",
      "[899, 1910]\n",
      "FPR: 0.311923877490336\n",
      "FNR: 0.3200427198291207\n",
      "TNR: 0.688076122509664\n",
      "TPR = recall: 0.6799572801708793\n",
      "PPV = precision: 0.6454883406556269\n",
      "f1: 0.6622746185852982\n",
      "mcc: 0.3668585919872056\n",
      "recidivism ratio: 0.4551198963058976\n"
     ]
    }
   ],
   "source": [
    "ca.runTrainTestKFold(ddict_list2)"
   ]
  },
  {
   "cell_type": "markdown",
   "metadata": {},
   "source": [
    "Let's write to a local .json file. "
   ]
  },
  {
   "cell_type": "code",
   "execution_count": 51,
   "metadata": {},
   "outputs": [
    {
     "name": "stdout",
     "output_type": "stream",
     "text": [
      "filepath broward-gbr-test.json already exists, overwriting with a new file\n"
     ]
    }
   ],
   "source": [
    "ca.writeModelPredictionsToJSONFile(ca.gl_last_y, ca.gl_last_preds, ddict_list2, 'broward-gbr-test.json', 'broward-gbr-test', 'Broward Recidivism - Gradient Boosting Regressor test', 'no notes yet', 10, [('race', '==', 'African-American'), ('race', '==', 'Caucasian')], True)"
   ]
  },
  {
   "cell_type": "markdown",
   "metadata": {},
   "source": [
    "To test this in the Confusion Matrix Dashboard, go to Data Source - Import File Data"
   ]
  },
  {
   "cell_type": "markdown",
   "metadata": {},
   "source": [
    "# Violent Recidivism"
   ]
  },
  {
   "cell_type": "markdown",
   "metadata": {},
   "source": [
    "Test violent recidivism instead of general recidivism."
   ]
  },
  {
   "cell_type": "code",
   "execution_count": 65,
   "metadata": {},
   "outputs": [
    {
     "name": "stdout",
     "output_type": "stream",
     "text": [
      "setting gl_charge_index_desc_map\n"
     ]
    }
   ],
   "source": [
    "ca.setRecidType('v_recid', ddict_list)"
   ]
  },
  {
   "cell_type": "markdown",
   "metadata": {},
   "source": [
    "Load the violent recidivism data set, 'compas-scores-two-years-violent.csv'"
   ]
  },
  {
   "cell_type": "code",
   "execution_count": 69,
   "metadata": {},
   "outputs": [
    {
     "name": "stdout",
     "output_type": "stream",
     "text": [
      "loading data from: data\\compas-scores-two-years-violent.csv\n"
     ]
    }
   ],
   "source": [
    "vdict_list = ca.loadDataReturnDDictList('violent')"
   ]
  },
  {
   "cell_type": "code",
   "execution_count": 70,
   "metadata": {},
   "outputs": [],
   "source": [
    "vdict_list2 = ca.applyFilters(vdict_list, 'violent')"
   ]
  },
  {
   "cell_type": "markdown",
   "metadata": {},
   "source": [
    "Adjust features for violent recidivism."
   ]
  },
  {
   "cell_type": "code",
   "execution_count": 71,
   "metadata": {},
   "outputs": [
    {
     "name": "stdout",
     "output_type": "stream",
     "text": [
      "setting gl_charge_index_desc_map\n"
     ]
    }
   ],
   "source": [
    "ca.computeChargeDescMap(vdict_list)"
   ]
  },
  {
   "cell_type": "code",
   "execution_count": 72,
   "metadata": {},
   "outputs": [],
   "source": [
    "ca.computeAgeFeatureMap()"
   ]
  },
  {
   "cell_type": "code",
   "execution_count": 73,
   "metadata": {},
   "outputs": [],
   "source": [
    "vdict_list2_aa = ca.filterDdict(vdict_list2, [('race', '==', 'African-American')])"
   ]
  },
  {
   "cell_type": "code",
   "execution_count": 74,
   "metadata": {},
   "outputs": [],
   "source": [
    "vdict_list2_cau = ca.filterDdict(vdict_list2, [('race', '==', 'Caucasian')])"
   ]
  },
  {
   "cell_type": "code",
   "execution_count": 75,
   "metadata": {},
   "outputs": [
    {
     "data": {
      "image/png": "[encoded data removed]",
      "text/plain": [
       "<Figure size 432x288 with 1 Axes>"
      ]
     },
     "metadata": {},
     "output_type": "display_data"
    }
   ],
   "source": [
    "ca.plotRecidByDecile(vdict_list2, 'blue', 'both', 1400)"
   ]
  },
  {
   "cell_type": "code",
   "execution_count": 76,
   "metadata": {},
   "outputs": [
    {
     "name": "stdout",
     "output_type": "stream",
     "text": [
      "AUC:0.7312071424105158\n"
     ]
    }
   ],
   "source": [
    "vroc = ca.buildROCCurve(vdict_list2)"
   ]
  },
  {
   "cell_type": "markdown",
   "metadata": {},
   "source": [
    "COMPAS gets an AUC on violent recidivism of .72, which is better than reported by ProPublica."
   ]
  },
  {
   "cell_type": "code",
   "execution_count": 77,
   "metadata": {},
   "outputs": [
    {
     "name": "stdout",
     "output_type": "stream",
     "text": [
      "AUC: 0.7312071424105158\n"
     ]
    },
    {
     "data": {
      "image/png": "[encoded data removed]",
      "text/plain": [
       "<Figure size 360x360 with 1 Axes>"
      ]
     },
     "metadata": {},
     "output_type": "display_data"
    }
   ],
   "source": [
    "ca.plotROC(vroc)"
   ]
  },
  {
   "cell_type": "markdown",
   "metadata": {},
   "source": [
    "Print confusion matrices for African-American and Caucasian data records."
   ]
  },
  {
   "cell_type": "code",
   "execution_count": 78,
   "metadata": {},
   "outputs": [
    {
     "name": "stdout",
     "output_type": "stream",
     "text": [
      "count: 3696\n",
      "[1853, 1348]\n",
      "[187, 308]\n",
      "FPR: 0.4211184004998438\n",
      "FNR: 0.37777777777777777\n",
      "TNR: 0.5788815995001562\n",
      "TPR = recall: 0.6222222222222222\n",
      "PPV = precision: 0.1859903381642512\n",
      "f1: 0.28637842863784285\n",
      "recidivism ratio: 0.13392857142857142\n"
     ]
    },
    {
     "data": {
      "text/plain": [
       "[[1853, 1348], [187, 308]]"
      ]
     },
     "execution_count": 78,
     "metadata": {},
     "output_type": "execute_result"
    }
   ],
   "source": [
    "ca.buildConfusionMatrix(ddict_list_aa)"
   ]
  },
  {
   "cell_type": "code",
   "execution_count": 79,
   "metadata": {},
   "outputs": [
    {
     "name": "stdout",
     "output_type": "stream",
     "text": [
      "count: 2454\n",
      "[1772, 460]\n",
      "[139, 83]\n",
      "FPR: 0.2060931899641577\n",
      "FNR: 0.6261261261261262\n",
      "TNR: 0.7939068100358423\n",
      "TPR = recall: 0.3738738738738739\n",
      "PPV = precision: 0.15285451197053407\n",
      "f1: 0.2169934640522876\n",
      "recidivism ratio: 0.09046454767726161\n"
     ]
    },
    {
     "data": {
      "text/plain": [
       "[[1772, 460], [139, 83]]"
      ]
     },
     "execution_count": 79,
     "metadata": {},
     "output_type": "execute_result"
    }
   ],
   "source": [
    "ca.buildConfusionMatrix(ddict_list_cau)"
   ]
  },
  {
   "cell_type": "markdown",
   "metadata": {},
   "source": [
    "As with all recidivism, the False Positive and False Negative rates are different for AA and Cau populations."
   ]
  },
  {
   "cell_type": "markdown",
   "metadata": {},
   "source": [
    "Build our own model for violent recidivism that omits race and sex features with certainty.<br>Go back to a logistic regression model."
   ]
  },
  {
   "cell_type": "code",
   "execution_count": 80,
   "metadata": {},
   "outputs": [
    {
     "name": "stdout",
     "output_type": "stream",
     "text": [
      "setting model type to: logr\n"
     ]
    }
   ],
   "source": [
    "ca.setModelType('logr')"
   ]
  },
  {
   "cell_type": "code",
   "execution_count": 81,
   "metadata": {},
   "outputs": [
    {
     "name": "stdout",
     "output_type": "stream",
     "text": [
      "feature_list: ['age', 'juv_fel_count', 'juv_misd_count', 'juv_other_count', 'priors_count', 'c_charge_degree', 'c_charge_desc']\n",
      "fold: 0\n",
      "fold: 1\n",
      "fold: 2\n",
      "fold: 3\n",
      "fold: 4\n",
      "AUC: 0.7408379418630487\n",
      "choosing score_threshold: 0.21800000000000003 for optimal mcc score: 0.30054439726401416\n",
      "count: 4020\n",
      "[2635, 693]\n",
      "[304, 388]\n",
      "FPR: 0.20823317307692307\n",
      "FNR: 0.4393063583815029\n",
      "TNR: 0.7917668269230769\n",
      "TPR = recall: 0.5606936416184971\n",
      "PPV = precision: 0.35892691951896394\n",
      "f1: 0.4376762549351382\n",
      "mcc: 0.30008375131117376\n",
      "recidivism ratio: 0.17213930348258707\n"
     ]
    }
   ],
   "source": [
    "ca.runTrainTestKFold(vdict_list2)"
   ]
  },
  {
   "cell_type": "markdown",
   "metadata": {},
   "source": [
    "The overall violent recidivism ratio is 0.17 in this data set.<br>Compare 5-fold cross-validation with a full data logistic regression model, to check for overfitting."
   ]
  },
  {
   "cell_type": "code",
   "execution_count": 82,
   "metadata": {},
   "outputs": [
    {
     "name": "stdout",
     "output_type": "stream",
     "text": [
      "feature_list: ['age', 'juv_fel_count', 'juv_misd_count', 'juv_other_count', 'priors_count', 'c_charge_degree', 'c_charge_desc']\n",
      "AUC: 0.7637982332425458\n",
      "choosing score_threshold: 0.291 for optimal mcc score: 0.3481577605674707\n",
      "count: 4020\n",
      "[2957, 371]\n",
      "[374, 318]\n",
      "FPR: 0.11147836538461539\n",
      "FNR: 0.5404624277456648\n",
      "TNR: 0.8885216346153846\n",
      "TPR = recall: 0.4595375722543353\n",
      "PPV = precision: 0.46153846153846156\n",
      "f1: 0.4605358435916003\n",
      "mcc: 0.3486590198647586\n",
      "recidivism ratio: 0.17213930348258707\n"
     ]
    }
   ],
   "source": [
    "ca.runTrainTestFull(vdict_list2)"
   ]
  },
  {
   "cell_type": "markdown",
   "metadata": {},
   "source": [
    "Overfitting is possible because there are more charge descriptions with only a handful of incidents, which even a logistic regression model can overfit with the 73 one-hot c_charge_desc features. So, it is more correct to use the 5-fold model to predict violent recidivism."
   ]
  },
  {
   "cell_type": "code",
   "execution_count": 83,
   "metadata": {},
   "outputs": [
    {
     "name": "stdout",
     "output_type": "stream",
     "text": [
      "feature_list: ['age', 'juv_fel_count', 'juv_misd_count', 'juv_other_count', 'priors_count', 'c_charge_degree', 'c_charge_desc']\n",
      "fold: 0\n",
      "fold: 1\n",
      "fold: 2\n",
      "fold: 3\n",
      "fold: 4\n",
      "AUC: 0.7377805934582016\n",
      "choosing score_threshold: 0.271 for optimal mcc score: 0.3099343578606931\n",
      "count: 4020\n",
      "[2895, 433]\n",
      "[381, 311]\n",
      "FPR: 0.13010817307692307\n",
      "FNR: 0.5505780346820809\n",
      "TNR: 0.8698918269230769\n",
      "TPR = recall: 0.44942196531791906\n",
      "PPV = precision: 0.41801075268817206\n",
      "f1: 0.4331476323119777\n",
      "mcc: 0.31038731874222314\n",
      "recidivism ratio: 0.17213930348258707\n"
     ]
    }
   ],
   "source": [
    "ca.runTrainTestKFold(vdict_list2)"
   ]
  },
  {
   "cell_type": "markdown",
   "metadata": {},
   "source": [
    "AUC is .72, which is \"not bad\"."
   ]
  },
  {
   "cell_type": "markdown",
   "metadata": {},
   "source": [
    "There is a lot of overlap in the recid and norecid distributions.  But the bulk of the no recidivism records get lower prediction scores."
   ]
  },
  {
   "cell_type": "code",
   "execution_count": 84,
   "metadata": {},
   "outputs": [
    {
     "name": "stdout",
     "output_type": "stream",
     "text": [
      "[0, 0, 0, 87.46355685131195, 189.3877551020408, 299.7762863534675, 440.74844074844077, 616.5413533834586, 880.0, 909.090909090909, 1097.5609756097563, 956.5217391304349, 1071.4285714285713, 1000.0, 1250.0, 2000.0, 0, 0, 0, 0]\n"
     ]
    },
    {
     "data": {
      "image/png": "[encoded data removed]",
      "text/plain": [
       "<Figure size 432x288 with 1 Axes>"
      ]
     },
     "metadata": {},
     "output_type": "display_data"
    }
   ],
   "source": [
    "ca.plotPredictionScores(ca.gl_last_y, ca.gl_last_preds, ratio_color=None, ymax = 2000)"
   ]
  },
  {
   "cell_type": "markdown",
   "metadata": {},
   "source": [
    "The ROC curve looks a bit flatter as well.  But at least it is better than being on the diagonal with an AUC of 0.5."
   ]
  },
  {
   "cell_type": "code",
   "execution_count": 85,
   "metadata": {},
   "outputs": [
    {
     "name": "stdout",
     "output_type": "stream",
     "text": [
      "AUC: 0.7377805934582016\n"
     ]
    },
    {
     "data": {
      "image/png": "[encoded data removed]",
      "text/plain": [
       "<Figure size 360x360 with 1 Axes>"
      ]
     },
     "metadata": {},
     "output_type": "display_data"
    }
   ],
   "source": [
    "ca.plotROC(ca.gl_last_roc)"
   ]
  },
  {
   "cell_type": "markdown",
   "metadata": {},
   "source": [
    "Print confusion matrices for the logistic regression model for violent recidivism, broken out by African-American and Caucasian subpopulations.<br>\n",
    "Choose the threshold of .279 because that's what was chosen by mcc for the model trained on all data.<br>\n",
    "(Actually, the threshold could be slightly higher or lower when run repeatedly due to k-fold randomization.)"
   ]
  },
  {
   "cell_type": "code",
   "execution_count": 86,
   "metadata": {},
   "outputs": [
    {
     "name": "stdout",
     "output_type": "stream",
     "text": [
      "feature_list: ['age', 'juv_fel_count', 'juv_misd_count', 'juv_other_count', 'priors_count', 'c_charge_degree', 'c_charge_desc']\n",
      "\n",
      "Caucasian\n",
      "AUC: 0.7245225485475835\n",
      "count: 1459\n",
      "[1161, 112]\n",
      "[116, 70]\n",
      "FPR: 0.08798114689709348\n",
      "FNR: 0.6236559139784946\n",
      "TNR: 0.9120188531029065\n",
      "TPR = recall: 0.3763440860215054\n",
      "PPV = precision: 0.38461538461538464\n",
      "f1: 0.3804347826086956\n",
      "mcc: 0.29105762063273183\n",
      "recidivism ratio: 0.12748457847840988\n",
      "\n",
      "African-American\n",
      "AUC: 0.7526589384384952\n",
      "count: 1918\n",
      "[1255, 237]\n",
      "[208, 218]\n",
      "FPR: 0.15884718498659517\n",
      "FNR: 0.48826291079812206\n",
      "TNR: 0.8411528150134048\n",
      "TPR = recall: 0.5117370892018779\n",
      "PPV = precision: 0.47912087912087914\n",
      "f1: 0.4948921679909194\n",
      "mcc: 0.3448264599164344\n",
      "recidivism ratio: 0.22210636079249219\n"
     ]
    }
   ],
   "source": [
    "ca.runRaceComparisonForModel(vdict_list2, ca.gl_last_model, .279)"
   ]
  },
  {
   "cell_type": "markdown",
   "metadata": {},
   "source": [
    "Plot violent recidivism prediction scores for a logistic regression model for African-American and Caucasian subsets of the violent recidivism data."
   ]
  },
  {
   "cell_type": "code",
   "execution_count": 87,
   "metadata": {
    "scrolled": true
   },
   "outputs": [
    {
     "name": "stdout",
     "output_type": "stream",
     "text": [
      "[0, 0, 0, 20.833333333333332, 52.63157894736842, 75.63025210084034, 128.86597938144328, 166.66666666666666, 214.28571428571428, 256.25, 360.0, 320.0, 239.13043478260872, 409.0909090909091, 500.0, 500.0, 0, 0, 0, 0]\n"
     ]
    },
    {
     "data": {
      "image/png": "[encoded data removed]",
      "text/plain": [
       "<Figure size 432x288 with 1 Axes>"
      ]
     },
     "metadata": {},
     "output_type": "display_data"
    }
   ],
   "source": [
    "ca.plotPredictionScores(ca.gl_last_y_aa, ca.gl_last_preds_aa, None, ymax = 500)"
   ]
  },
  {
   "cell_type": "code",
   "execution_count": 88,
   "metadata": {},
   "outputs": [
    {
     "name": "stdout",
     "output_type": "stream",
     "text": [
      "[0, 0, 0, 19.943019943019944, 44.265593561368206, 64.56953642384106, 77.8688524590164, 141.66666666666666, 153.84615384615387, 216.66666666666669, 236.8421052631579, 285.7142857142857, 166.66666666666666, 400.0, 500.0, 0, 0, 0, 0, 0]\n"
     ]
    },
    {
     "data": {
      "image/png": "[encoded data removed]",
      "text/plain": [
       "<Figure size 432x288 with 1 Axes>"
      ]
     },
     "metadata": {},
     "output_type": "display_data"
    }
   ],
   "source": [
    "ca.plotPredictionScores(ca.gl_last_y_cau, ca.gl_last_preds_cau, None, ymax = 500)"
   ]
  },
  {
   "cell_type": "markdown",
   "metadata": {},
   "source": [
    "Try a Gradient Boosting Regressor model to predict violent recidivism."
   ]
  },
  {
   "cell_type": "code",
   "execution_count": 89,
   "metadata": {},
   "outputs": [
    {
     "name": "stdout",
     "output_type": "stream",
     "text": [
      "setting model type to: gbr\n"
     ]
    }
   ],
   "source": [
    "ca.setModelType('gbr')"
   ]
  },
  {
   "cell_type": "markdown",
   "metadata": {},
   "source": [
    "A 5-fold CV model does maybe a tad better, with AUC=.74:"
   ]
  },
  {
   "cell_type": "code",
   "execution_count": 90,
   "metadata": {
    "scrolled": true
   },
   "outputs": [
    {
     "name": "stdout",
     "output_type": "stream",
     "text": [
      "feature_list: ['age', 'juv_fel_count', 'juv_misd_count', 'juv_other_count', 'priors_count', 'c_charge_degree', 'c_charge_desc']\n",
      "fold: 0\n",
      "fold: 1\n",
      "fold: 2\n",
      "fold: 3\n",
      "fold: 4\n",
      "AUC: 0.7435131759948823\n",
      "choosing score_threshold: 0.23000000000000004 for optimal mcc score: 0.3116437587692723\n",
      "count: 4020\n",
      "[2719, 609]\n",
      "[320, 372]\n",
      "FPR: 0.18299278846153846\n",
      "FNR: 0.4624277456647399\n",
      "TNR: 0.8170072115384616\n",
      "TPR = recall: 0.5375722543352601\n",
      "PPV = precision: 0.37920489296636084\n",
      "f1: 0.4447101016138673\n",
      "mcc: 0.3116437587692723\n",
      "recidivism ratio: 0.17213930348258707\n"
     ]
    }
   ],
   "source": [
    "ca.runTrainTestKFold(vdict_list2)"
   ]
  },
  {
   "cell_type": "markdown",
   "metadata": {},
   "source": [
    "With cross-validation, we don't get out a single model to compare the distributions and confusion matrices between African-American and Caucasian defendants, so we cannot apply runRaceComparisonForModel() directly. It would be possible to write a function to do so by running the evaluations of the two racial populations on the test slices under each of the K model training splits.  This exercise is left to the reader.\n"
   ]
  },
  {
   "cell_type": "code",
   "execution_count": null,
   "metadata": {},
   "outputs": [],
   "source": []
  }
 ],
 "metadata": {
  "kernelspec": {
   "display_name": "Python 3",
   "language": "python",
   "name": "python3"
  },
  "language_info": {
   "codemirror_mode": {
    "name": "ipython",
    "version": 3
   },
   "file_extension": ".py",
   "mimetype": "text/x-python",
   "name": "python",
   "nbconvert_exporter": "python",
   "pygments_lexer": "ipython3",
   "version": "3.6.8"
  }
 },
 "nbformat": 4,
 "nbformat_minor": 4
}
