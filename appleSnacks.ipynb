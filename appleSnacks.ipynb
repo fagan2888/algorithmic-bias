{
 "cells": [
  {
   "cell_type": "markdown",
   "metadata": {},
   "source": [
    "## Apple Snacks Synthetic Data"
   ]
  },
  {
   "cell_type": "code",
   "execution_count": 1,
   "metadata": {},
   "outputs": [
    {
     "name": "stdout",
     "output_type": "stream",
     "text": [
      "setting model type to: logr\n"
     ]
    },
    {
     "name": "stderr",
     "output_type": "stream",
     "text": [
      "c:\\python36x64\\lib\\site-packages\\sklearn\\utils\\deprecation.py:144: FutureWarning: The sklearn.metrics.scorer module is  deprecated in version 0.22 and will be removed in version 0.24. The corresponding classes / functions should instead be imported from sklearn.metrics. Anything that cannot be imported from sklearn.metrics is now part of the private API.\n",
      "  warnings.warn(message, FutureWarning)\n",
      "c:\\python36x64\\lib\\site-packages\\sklearn\\utils\\deprecation.py:144: FutureWarning: The sklearn.feature_selection.base module is  deprecated in version 0.22 and will be removed in version 0.24. The corresponding classes / functions should instead be imported from sklearn.feature_selection. Anything that cannot be imported from sklearn.feature_selection is now part of the private API.\n",
      "  warnings.warn(message, FutureWarning)\n"
     ]
    }
   ],
   "source": [
    "import appleSnacks as asd"
   ]
  },
  {
   "cell_type": "markdown",
   "metadata": {},
   "source": [
    "The main function is generateAppleSnackSamples.\n",
    "To get smooth distributions, use 100,000 kids.  20 bins is a good number.\n",
    "The third argument is the generator distribution.  Several generator distributions are in the file appleSnacks.py.  Edit this file to experiment with your own."
   ]
  },
  {
   "cell_type": "code",
   "execution_count": 2,
   "metadata": {},
   "outputs": [
    {
     "name": "stdout",
     "output_type": "stream",
     "text": [
      "using feature distribution: feature_dist_map_uniform\n",
      "\n",
      "age min: 6.0 max: 10.0 min_score: 0.0 max_score: 1.0\n",
      "height min: 40.0 max: 60.0 min_score: 0.0 max_score: 1.0\n",
      "categorical_spec: (0, 1, 2)\n",
      "teacher min: 0 max: 2 min_score: 0.0 max_score: 1.0\n",
      "categorical_spec: (0, 1, 2, 3)\n",
      "pet min: 0 max: 3 min_score: 0.0 max_score: 0.9999\n",
      "\n",
      "age min: 6.0 max: 10.0 min_score: 0.0 max_score: 1.0\n",
      "height min: 40.0 max: 60.0 min_score: 0.0 max_score: 1.0\n",
      "categorical_spec: (0, 1, 2)\n",
      "teacher min: 0 max: 2 min_score: 0.0 max_score: 1.0\n",
      "categorical_spec: (0, 1, 2, 3)\n",
      "pet min: 0 max: 3 min_score: 0.0 max_score: 0.9999\n",
      "overall_score_range: value: (46.0, 75.0)  score: (0.0, 3.9999000000000002\n",
      "bin_i wants to be 20 because of prob_pr 1.0\n"
     ]
    }
   ],
   "source": [
    "kdict_list_uniform = asd.generateAppleSnackSamples(100000, 20, asd.gl_feature_dist_map_uniform)"
   ]
  },
  {
   "cell_type": "code",
   "execution_count": 3,
   "metadata": {},
   "outputs": [
    {
     "name": "stdout",
     "output_type": "stream",
     "text": [
      "filepath apple-snacks-uniform-test.json already exists, overwriting with a new file\n"
     ]
    }
   ],
   "source": [
    "asd.writePredictionsToJSONFileA(kdict_list_uniform, 'apple-snacks-uniform-test.json', 'apple-snacks-uniform-test', 'Apple Snacks Uniform Test', 'no notes', ('apple', 'other'), [('sex', '==', 'girl'), ('sex', '==', 'boy')], True)"
   ]
  },
  {
   "cell_type": "markdown",
   "metadata": {},
   "source": [
    "In the Confusion Matrix Dashboard, go to Data Source -> Import File Data, and navigate to the file, 'apple-snacks-uniform-test.json'."
   ]
  },
  {
   "cell_type": "markdown",
   "metadata": {},
   "source": [
    "## Positive Prediction Ratio Score"
   ]
  },
  {
   "cell_type": "code",
   "execution_count": 5,
   "metadata": {},
   "outputs": [
    {
     "name": "stdout",
     "output_type": "stream",
     "text": [
      "using feature distribution: feature_dist_map_skewed_opposite\n",
      "\n",
      "age min: 6.0 max: 10.0 min_score: 0.0 max_score: 1.0\n",
      "height min: 40.0 max: 60.0 min_score: 0.0 max_score: 1.0\n",
      "categorical_spec: (0, 1, 2)\n",
      "teacher min: 0 max: 2 min_score: 0.0 max_score: 1.0\n",
      "categorical_spec: (0, 1, 2, 3)\n",
      "pet min: 0 max: 3 min_score: 0.0 max_score: 0.9999\n",
      "\n",
      "age min: 6.0 max: 10.0 min_score: 0.0 max_score: 1.0\n",
      "height min: 40.0 max: 60.0 min_score: 0.0 max_score: 1.0\n",
      "categorical_spec: (0, 1, 2)\n",
      "teacher min: 0 max: 2 min_score: 0.0 max_score: 1.0\n",
      "categorical_spec: (0, 1, 2, 3)\n",
      "pet min: 0 max: 3 min_score: 0.0 max_score: 0.9999\n",
      "overall_score_range: value: (46.0, 75.0)  score: (0.0, 3.9999000000000002\n",
      "bin_i wants to be 20 because of prob_pr 1.0\n",
      "bin_i wants to be 20 because of prob_pr 1.0\n",
      "bin_i: 0 1:     2 /    19 ratio_1: 2.225   2:     8 /   255  ratio_2: 10.467  max:  2.225  denom:    21  weighted: 0.088\n",
      "bin_i: 1 1:     6 /    49 ratio_1: 1.910   2:    58 /   599  ratio_2: 4.459  max:  1.910  denom:    55  weighted: 0.031\n",
      "bin_i: 2 1:    18 /   150 ratio_1: 2.412   2:   169 /  1262  ratio_2: 4.294  max:  2.412  denom:   168  weighted: 0.001\n",
      "bin_i: 3 1:    75 /   318 ratio_1: 3.103   2:   437 /  1979  ratio_2: 3.906  max:  3.103  denom:   393  weighted: 0.004\n",
      "bin_i: 4 1:   149 /   552 ratio_1: 4.275   2:   771 /  2515  ratio_2: 4.584  max:  4.275  denom:   701  weighted: 0.004\n",
      "bin_i: 5 1:   383 /   946 ratio_1: 4.391   2:  1123 /  3137  ratio_2: 5.180  max:  4.391  denom:  1329  weighted: 0.013\n",
      "bin_i: 6 1:   614 /  1305 ratio_1: 4.041   2:  1718 /  3420  ratio_2: 3.705  max:  3.705  denom:  1919  weighted: 0.001\n",
      "bin_i: 7 1:  1112 /  1765 ratio_1: 3.573   2:  2122 /  3476  ratio_2: 3.553  max:  3.553  denom:  2877  weighted: 0.026\n",
      "bin_i: 8 1:  1557 /  2146 ratio_1: 3.925   2:  2439 /  3194  ratio_2: 3.721  max:  3.721  denom:  3703  weighted: 0.109\n",
      "bin_i: 9 1:  2274 /  2455 ratio_1: 3.437   2:  2589 /  2749  ratio_2: 3.500  max:  3.437  denom:  4729  weighted: 0.126\n",
      "bin_i: 10 1:  2776 /  2497 ratio_1: 3.470   2:  2469 /  2222  ratio_2: 3.412  max:  3.412  denom:  4691  weighted: 0.015\n",
      "bin_i: 11 1:  3147 /  2342 ratio_1: 3.654   2:  2124 /  1654  ratio_2: 3.882  max:  3.654  denom:  3778  weighted: 0.048\n",
      "bin_i: 12 1:  3526 /  2093 ratio_1: 3.571   2:  1778 /  1019  ratio_2: 3.563  max:  3.563  denom:  2797  weighted: 0.019\n",
      "bin_i: 13 1:  3573 /  1691 ratio_1: 3.445   2:  1366 /   631  ratio_2: 3.670  max:  3.445  denom:  1997  weighted: 0.488\n",
      "bin_i: 14 1:  3173 /  1307 ratio_1: 9.202   2:   995 /   328  ratio_2: 6.501  max:  6.501  denom:  1323  weighted: 0.347\n",
      "bin_i: 15 1:  2584 /   731 ratio_1: 5.204   2:   562 /   186  ratio_2: 5.064  max:  5.064  denom:   748  weighted: 0.186\n",
      "bin_i: 16 1:  1935 /   420 ratio_1: 12.541   2:   293 /    87  ratio_2: 6.129  max:  6.129  denom:   380  weighted: 0.464\n",
      "bin_i: 17 1:  1249 /   175 ratio_1: 4.123   2:   156 /    24  ratio_2: 2.529  max:  2.529  denom:   180  weighted: 0.114\n",
      "bin_i: 18 1:   615 /    50 ratio_1: 6.181   2:    60 /     7  ratio_2: 2.221  max:  2.221  denom:    67  weighted: 0.041\n",
      "bin_i: 19 1:   216 /     5 ratio_1: 4.243   2:    18 /     1  ratio_2: 1.256  max:  1.256  denom:    19  weighted: 0.017\n",
      "final_denom: 637500.0\n",
      "denom_sum: 31875  summ: 2.144316452175634   w_binom_max_sum: 119972.8804331647\n",
      "pprs: 6.727267300943166e-05  ave_binom_max: 3.76385507241301\n"
     ]
    },
    {
     "name": "stderr",
     "output_type": "stream",
     "text": [
      "C:\\projects\\ai-fairness\\appleSnacks.py:1105: RuntimeWarning: invalid value encountered in double_scalars\n",
      "  binom_mass = sp.binom(n, k) * math.pow(p, k) * math.pow(1.0-p, n-k)\n"
     ]
    },
    {
     "data": {
      "image/png": "[encoded data removed]",
      "text/plain": [
       "<Figure size 432x288 with 1 Axes>"
      ]
     },
     "metadata": {},
     "output_type": "display_data"
    },
    {
     "name": "stdout",
     "output_type": "stream",
     "text": [
      "pprs: (0.0067272673009431665, 3.76385507241301)\n"
     ]
    }
   ],
   "source": [
    "asd.computePPRSOnKids1(100000, 20, asd.gl_feature_dist_map_skewed_opposite)"
   ]
  },
  {
   "cell_type": "markdown",
   "metadata": {},
   "source": [
    "This is the list of predefined generator distributions. In this module, a generator distribution is called a feature_dist_map.\n",
    "gl_feature_dist_map_list = <br>\n",
    "\\[ gl_feature_dist_map_uniform,<br>\n",
    "gl_feature_dist_map_skewed_same, <br>\n",
    "gl_feature_dist_map_skewed_opposite, <br>\n",
    "gl_feature_dist_map_uniform_bias_sex, <br>\n",
    "gl_feature_dist_map_skewed_opposite_bias_girls<br>\n",
    "\\]"
   ]
  },
  {
   "cell_type": "code",
   "execution_count": 6,
   "metadata": {},
   "outputs": [
    {
     "data": {
      "text/plain": [
       "[{'distribution-name': 'feature_dist_map_uniform',\n",
       "  'notes': 'Synthesized data with four factors (age, height, teacher, pet). <br> Feature distributions are uniform and the same for girls and boys.<br> This produces a balanced distribution of preference for apple snack versus other snack.',\n",
       "  'girl': {'age': {'linear': (6.0, 10.0, 1.0), 'offset': 6.0, 'scale': 0.25},\n",
       "   'height': {'linear': (40.0, 60.0, 1.0), 'offset': 40.0, 'scale': 0.05},\n",
       "   'teacher': {'categorical': (0, 1, 2),\n",
       "    'names': ('Ms. Popcorn', 'Miss Fruitdale', 'Mr. Applebaum'),\n",
       "    'dist': (0.333, 0.333, 0.333),\n",
       "    'offset': 0,\n",
       "    'scale': 0.5},\n",
       "   'pet': {'categorical': (0, 1, 2, 3),\n",
       "    'names': ('turtle', 'fish', 'cat', 'dog'),\n",
       "    'dist': (0.25, 0.25, 0.25, 0.25),\n",
       "    'offset': 0,\n",
       "    'scale': 0.3333}},\n",
       "  'boy': {'age': {'linear': (6.0, 10.0, 1.0), 'offset': 6.0, 'scale': 0.25},\n",
       "   'height': {'linear': (40.0, 60.0, 1.0), 'offset': 40.0, 'scale': 0.05},\n",
       "   'teacher': {'categorical': (0, 1, 2),\n",
       "    'names': ('Ms. Popcorn', 'Miss Fruitdale', 'Mr. Applebaum'),\n",
       "    'dist': (0.333, 0.333, 0.333),\n",
       "    'offset': 0,\n",
       "    'scale': 0.5},\n",
       "   'pet': {'categorical': (0, 1, 2, 3),\n",
       "    'names': ('turtle', 'fish', 'cat', 'dog'),\n",
       "    'dist': (0.25, 0.25, 0.25, 0.25),\n",
       "    'offset': 0,\n",
       "    'scale': 0.3333}}},\n",
       " {'distribution-name': 'feature_dist_map_skewed_same',\n",
       "  'notes': 'Synthesized data with four factors (age, height, teacher, pet).<br> Feature distributions are skewed toward higher values.<br> This produces a distribution of preference that is skewed toward apple snack versus other.<br> Same distribution for girls and boys.',\n",
       "  'girl': {'age': {'linear': (6.0, 10.0, 0.6), 'offset': 6.0, 'scale': 0.25},\n",
       "   'height': {'linear': (40.0, 60.0, 0.6), 'offset': 40.0, 'scale': 0.05},\n",
       "   'teacher': {'categorical': (0, 1, 2),\n",
       "    'names': ('Ms. Popcorn', 'Miss Fruitdale', 'Mr. Applebaum'),\n",
       "    'dist': (0.266, 0.333, 0.4),\n",
       "    'offset': 0,\n",
       "    'scale': 0.5},\n",
       "   'pet': {'categorical': (0, 1, 2, 3),\n",
       "    'names': ('turtle', 'fish', 'cat', 'dog'),\n",
       "    'dist': (0.15, 0.2, 0.3, 0.35),\n",
       "    'offset': 0,\n",
       "    'scale': 0.3333}},\n",
       "  'boy': {'age': {'linear': (6.0, 10.0, 0.6), 'offset': 6.0, 'scale': 0.25},\n",
       "   'height': {'linear': (40.0, 60.0, 0.6), 'offset': 40.0, 'scale': 0.05},\n",
       "   'teacher': {'categorical': (0, 1, 2),\n",
       "    'names': ('Ms. Popcorn', 'Miss Fruitdale', 'Mr. Applebaum'),\n",
       "    'dist': (0.266, 0.333, 0.4),\n",
       "    'offset': 0,\n",
       "    'scale': 0.5},\n",
       "   'pet': {'categorical': (0, 1, 2, 3),\n",
       "    'names': ('turtle', 'fish', 'cat', 'dog'),\n",
       "    'dist': (0.15, 0.2, 0.3, 0.35),\n",
       "    'offset': 0,\n",
       "    'scale': 0.3333}}},\n",
       " {'distribution-name': 'feature_dist_map_skewed_opposite',\n",
       "  'notes': 'Synthesized data with four factors (age, height, teacher, pet).<br> Feature distributions for girls are skewed toward higher values.<br> Feature distributions for boys are  skewed toward lower values.<br> These feature distributions lead to distributions of predicted preference that skew toward apple snack for girls (rightward), and toward other snack for boys (leftward).',\n",
       "  'girl': {'age': {'linear': (6.0, 10.0, 0.6), 'offset': 6.0, 'scale': 0.25},\n",
       "   'height': {'linear': (40.0, 60.0, 0.6), 'offset': 40.0, 'scale': 0.05},\n",
       "   'teacher': {'categorical': (0, 1, 2),\n",
       "    'names': ('Ms. Popcorn', 'Miss Fruitdale', 'Mr. Applebaum'),\n",
       "    'dist': (0.266, 0.333, 0.4),\n",
       "    'offset': 0,\n",
       "    'scale': 0.5},\n",
       "   'pet': {'categorical': (0, 1, 2, 3),\n",
       "    'names': ('turtle', 'fish', 'cat', 'dog'),\n",
       "    'dist': (0.15, 0.2, 0.3, 0.35),\n",
       "    'offset': 0,\n",
       "    'scale': 0.3333}},\n",
       "  'boy': {'age': {'linear': (6.0, 10.0, 1.4), 'offset': 6.0, 'scale': 0.25},\n",
       "   'height': {'linear': (40.0, 60.0, 1.4), 'offset': 40.0, 'scale': 0.05},\n",
       "   'teacher': {'categorical': (0, 1, 2),\n",
       "    'names': ('Ms. Popcorn', 'Miss Fruitdale', 'Mr. Applebaum'),\n",
       "    'dist': (0.4, 0.333, 0.266),\n",
       "    'offset': 0,\n",
       "    'scale': 0.5},\n",
       "   'pet': {'categorical': (0, 1, 2, 3),\n",
       "    'names': ('turtle', 'fish', 'cat', 'dog'),\n",
       "    'dist': (0.35, 0.3, 0.2, 0.15),\n",
       "    'offset': 0,\n",
       "    'scale': 0.3333}}},\n",
       " {'distribution-name': 'feature_dist_map_uniform_bias_sex_feature',\n",
       "  'notes': 'Distributions of features: age, height, teacher, pet, is uniform. This produces a balanced distribution of preference for apple snack versus other.  Same distribution for girls and boys.  But an additional sex feature is used that is skewed toard apple preference for girls, other preference for boys',\n",
       "  'girl': {'age': {'linear': (6.0, 10.0, 1.0), 'offset': 6.0, 'scale': 0.25},\n",
       "   'height': {'linear': (40.0, 60.0, 1.0), 'offset': 40.0, 'scale': 0.05},\n",
       "   'teacher': {'categorical': (0, 1, 2),\n",
       "    'names': ('Ms. Popcorn', 'Miss Fruitdale', 'Mr. Applebaum'),\n",
       "    'dist': (0.333, 0.333, 0.333),\n",
       "    'offset': 0,\n",
       "    'scale': 0.5},\n",
       "   'pet': {'categorical': (0, 1, 2, 3),\n",
       "    'names': ('turtle', 'fish', 'cat', 'dog'),\n",
       "    'dist': (0.25, 0.25, 0.25, 0.25),\n",
       "    'offset': 0,\n",
       "    'scale': 0.3333},\n",
       "   'prob-distortion': (1.0, 0.0, 0.1)},\n",
       "  'boy': {'age': {'linear': (6.0, 10.0, 1.0), 'offset': 6.0, 'scale': 0.25},\n",
       "   'height': {'linear': (40.0, 60.0, 1.0), 'offset': 40.0, 'scale': 0.05},\n",
       "   'teacher': {'categorical': (0, 1, 2),\n",
       "    'names': ('Ms. Popcorn', 'Miss Fruitdale', 'Mr. Applebaum'),\n",
       "    'dist': (0.333, 0.333, 0.333),\n",
       "    'offset': 0,\n",
       "    'scale': 0.5},\n",
       "   'pet': {'categorical': (0, 1, 2, 3),\n",
       "    'names': ('turtle', 'fish', 'cat', 'dog'),\n",
       "    'dist': (0.25, 0.25, 0.25, 0.25),\n",
       "    'offset': 0,\n",
       "    'scale': 0.3333}}},\n",
       " {'distribution-name': 'feature-dist-map-skewed-opposite-bias-girls',\n",
       "  'notes': 'Synthesized data with four factors (age, height, teacher, pet).<br> Feature distributions are skewed so that girls prefer apple snack and boys prefer other snack.<br> Then, the girls prediction scores were shifted left (toward other) by .1 (2 bins). This creates a bias for girls to be assigned a lower prediction score than they would otherwise get based on their preferences which are computed from their factors (age, etc.).<br> Even though the girls and boys distributions look similar, and their Confusion Matrix values can be made congruent by adjusting the decision threshold, the positive prediction ratios are offset.  This is reflected in a high PPRS (Positive Prediction Ratio Score).',\n",
       "  'girl': {'age': {'linear': (6.0, 10.0, 0.6), 'offset': 6.0, 'scale': 0.25},\n",
       "   'height': {'linear': (40.0, 60.0, 0.6), 'offset': 40.0, 'scale': 0.05},\n",
       "   'teacher': {'categorical': (0, 1, 2),\n",
       "    'names': ('Ms. Popcorn', 'Miss Fruitdale', 'Mr. Applebaum'),\n",
       "    'dist': (0.266, 0.333, 0.4),\n",
       "    'offset': 0,\n",
       "    'scale': 0.5},\n",
       "   'pet': {'categorical': (0, 1, 2, 3),\n",
       "    'names': ('turtle', 'fish', 'cat', 'dog'),\n",
       "    'dist': (0.15, 0.2, 0.3, 0.35),\n",
       "    'offset': 0,\n",
       "    'scale': 0.3333},\n",
       "   'prob-distortion': (1.0, 0.0, -0.1)},\n",
       "  'boy': {'age': {'linear': (6.0, 10.0, 1.4), 'offset': 6.0, 'scale': 0.25},\n",
       "   'height': {'linear': (40.0, 60.0, 1.4), 'offset': 40.0, 'scale': 0.05},\n",
       "   'teacher': {'categorical': (0, 1, 2),\n",
       "    'names': ('Ms. Popcorn', 'Miss Fruitdale', 'Mr. Applebaum'),\n",
       "    'dist': (0.4, 0.333, 0.266),\n",
       "    'offset': 0,\n",
       "    'scale': 0.5},\n",
       "   'pet': {'categorical': (0, 1, 2, 3),\n",
       "    'names': ('turtle', 'fish', 'cat', 'dog'),\n",
       "    'dist': (0.35, 0.3, 0.2, 0.15),\n",
       "    'offset': 0,\n",
       "    'scale': 0.3333}},\n",
       "  'preference-filter': {'girl': (1.0, 0.0), 'boy': (0.0, 1.0)}}]"
      ]
     },
     "execution_count": 6,
     "metadata": {},
     "output_type": "execute_result"
    }
   ],
   "source": [
    "asd.gl_feature_dist_map_list"
   ]
  },
  {
   "cell_type": "code",
   "execution_count": null,
   "metadata": {},
   "outputs": [],
   "source": []
  }
 ],
 "metadata": {
  "kernelspec": {
   "display_name": "Python 3",
   "language": "python",
   "name": "python3"
  },
  "language_info": {
   "codemirror_mode": {
    "name": "ipython",
    "version": 3
   },
   "file_extension": ".py",
   "mimetype": "text/x-python",
   "name": "python",
   "nbconvert_exporter": "python",
   "pygments_lexer": "ipython3",
   "version": "3.6.8"
  }
 },
 "nbformat": 4,
 "nbformat_minor": 4
}
